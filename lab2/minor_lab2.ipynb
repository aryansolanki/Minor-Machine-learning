{
  "nbformat": 4,
  "nbformat_minor": 0,
  "metadata": {
    "colab": {
      "provenance": []
    },
    "kernelspec": {
      "name": "python3",
      "display_name": "Python 3"
    },
    "language_info": {
      "name": "python"
    }
  },
  "cells": [
    {
      "cell_type": "code",
      "execution_count": null,
      "metadata": {
        "id": "H8KmGx3uak_3"
      },
      "outputs": [],
      "source": [
        "#https://www.kaggle.com/datasets/uciml/horse-colic?select=horse.csv\n",
        "import numpy as np\n",
        "import pandas as pd\n",
        "\n",
        "from sklearn.model_selection import train_test_split\n",
        "from sklearn.linear_model import LinearRegression\n",
        "from sklearn.metrics import mean_squared_error, mean_absolute_error\n",
        "from sklearn import preprocessing\n",
        "from sklearn.metrics import confusion_matrix"
      ]
    },
    {
      "cell_type": "code",
      "source": [
        "df=pd.read_csv(\"horse.csv\")\n",
        "#https://www.kaggle.com/datasets/uciml/horse-colic?select=horse.csv\n"
      ],
      "metadata": {
        "id": "iigypVLNbV0J"
      },
      "execution_count": null,
      "outputs": []
    },
    {
      "cell_type": "code",
      "source": [
        "df.head()"
      ],
      "metadata": {
        "colab": {
          "base_uri": "https://localhost:8080/",
          "height": 300
        },
        "id": "Evd9m0yCbqiH",
        "outputId": "16391a8a-eaf8-4304-b55d-4512155a38e6"
      },
      "execution_count": null,
      "outputs": [
        {
          "output_type": "execute_result",
          "data": {
            "text/plain": [
              "  surgery    age  hospital_number  rectal_temp  pulse  respiratory_rate  \\\n",
              "0      no  adult           530101         38.5   66.0              28.0   \n",
              "1     yes  adult           534817         39.2   88.0              20.0   \n",
              "2      no  adult           530334         38.3   40.0              24.0   \n",
              "3     yes  young          5290409         39.1  164.0              84.0   \n",
              "4      no  adult           530255         37.3  104.0              35.0   \n",
              "\n",
              "  temp_of_extremities peripheral_pulse mucous_membrane capillary_refill_time  \\\n",
              "0                cool          reduced             NaN            more_3_sec   \n",
              "1                 NaN              NaN   pale_cyanotic            less_3_sec   \n",
              "2              normal           normal       pale_pink            less_3_sec   \n",
              "3                cold           normal   dark_cyanotic            more_3_sec   \n",
              "4                 NaN              NaN   dark_cyanotic            more_3_sec   \n",
              "\n",
              "   ... packed_cell_volume total_protein abdomo_appearance abdomo_protein  \\\n",
              "0  ...               45.0           8.4               NaN            NaN   \n",
              "1  ...               50.0          85.0            cloudy            2.0   \n",
              "2  ...               33.0           6.7               NaN            NaN   \n",
              "3  ...               48.0           7.2     serosanguious            5.3   \n",
              "4  ...               74.0           7.4               NaN            NaN   \n",
              "\n",
              "      outcome  surgical_lesion lesion_1 lesion_2  lesion_3  cp_data  \n",
              "0        died               no    11300        0         0       no  \n",
              "1  euthanized               no     2208        0         0       no  \n",
              "2       lived               no        0        0         0      yes  \n",
              "3        died              yes     2208        0         0      yes  \n",
              "4        died               no     4300        0         0       no  \n",
              "\n",
              "[5 rows x 28 columns]"
            ],
            "text/html": [
              "\n",
              "  <div id=\"df-8c7d145d-8beb-4d09-8d45-901e6631d78b\">\n",
              "    <div class=\"colab-df-container\">\n",
              "      <div>\n",
              "<style scoped>\n",
              "    .dataframe tbody tr th:only-of-type {\n",
              "        vertical-align: middle;\n",
              "    }\n",
              "\n",
              "    .dataframe tbody tr th {\n",
              "        vertical-align: top;\n",
              "    }\n",
              "\n",
              "    .dataframe thead th {\n",
              "        text-align: right;\n",
              "    }\n",
              "</style>\n",
              "<table border=\"1\" class=\"dataframe\">\n",
              "  <thead>\n",
              "    <tr style=\"text-align: right;\">\n",
              "      <th></th>\n",
              "      <th>surgery</th>\n",
              "      <th>age</th>\n",
              "      <th>hospital_number</th>\n",
              "      <th>rectal_temp</th>\n",
              "      <th>pulse</th>\n",
              "      <th>respiratory_rate</th>\n",
              "      <th>temp_of_extremities</th>\n",
              "      <th>peripheral_pulse</th>\n",
              "      <th>mucous_membrane</th>\n",
              "      <th>capillary_refill_time</th>\n",
              "      <th>...</th>\n",
              "      <th>packed_cell_volume</th>\n",
              "      <th>total_protein</th>\n",
              "      <th>abdomo_appearance</th>\n",
              "      <th>abdomo_protein</th>\n",
              "      <th>outcome</th>\n",
              "      <th>surgical_lesion</th>\n",
              "      <th>lesion_1</th>\n",
              "      <th>lesion_2</th>\n",
              "      <th>lesion_3</th>\n",
              "      <th>cp_data</th>\n",
              "    </tr>\n",
              "  </thead>\n",
              "  <tbody>\n",
              "    <tr>\n",
              "      <th>0</th>\n",
              "      <td>no</td>\n",
              "      <td>adult</td>\n",
              "      <td>530101</td>\n",
              "      <td>38.5</td>\n",
              "      <td>66.0</td>\n",
              "      <td>28.0</td>\n",
              "      <td>cool</td>\n",
              "      <td>reduced</td>\n",
              "      <td>NaN</td>\n",
              "      <td>more_3_sec</td>\n",
              "      <td>...</td>\n",
              "      <td>45.0</td>\n",
              "      <td>8.4</td>\n",
              "      <td>NaN</td>\n",
              "      <td>NaN</td>\n",
              "      <td>died</td>\n",
              "      <td>no</td>\n",
              "      <td>11300</td>\n",
              "      <td>0</td>\n",
              "      <td>0</td>\n",
              "      <td>no</td>\n",
              "    </tr>\n",
              "    <tr>\n",
              "      <th>1</th>\n",
              "      <td>yes</td>\n",
              "      <td>adult</td>\n",
              "      <td>534817</td>\n",
              "      <td>39.2</td>\n",
              "      <td>88.0</td>\n",
              "      <td>20.0</td>\n",
              "      <td>NaN</td>\n",
              "      <td>NaN</td>\n",
              "      <td>pale_cyanotic</td>\n",
              "      <td>less_3_sec</td>\n",
              "      <td>...</td>\n",
              "      <td>50.0</td>\n",
              "      <td>85.0</td>\n",
              "      <td>cloudy</td>\n",
              "      <td>2.0</td>\n",
              "      <td>euthanized</td>\n",
              "      <td>no</td>\n",
              "      <td>2208</td>\n",
              "      <td>0</td>\n",
              "      <td>0</td>\n",
              "      <td>no</td>\n",
              "    </tr>\n",
              "    <tr>\n",
              "      <th>2</th>\n",
              "      <td>no</td>\n",
              "      <td>adult</td>\n",
              "      <td>530334</td>\n",
              "      <td>38.3</td>\n",
              "      <td>40.0</td>\n",
              "      <td>24.0</td>\n",
              "      <td>normal</td>\n",
              "      <td>normal</td>\n",
              "      <td>pale_pink</td>\n",
              "      <td>less_3_sec</td>\n",
              "      <td>...</td>\n",
              "      <td>33.0</td>\n",
              "      <td>6.7</td>\n",
              "      <td>NaN</td>\n",
              "      <td>NaN</td>\n",
              "      <td>lived</td>\n",
              "      <td>no</td>\n",
              "      <td>0</td>\n",
              "      <td>0</td>\n",
              "      <td>0</td>\n",
              "      <td>yes</td>\n",
              "    </tr>\n",
              "    <tr>\n",
              "      <th>3</th>\n",
              "      <td>yes</td>\n",
              "      <td>young</td>\n",
              "      <td>5290409</td>\n",
              "      <td>39.1</td>\n",
              "      <td>164.0</td>\n",
              "      <td>84.0</td>\n",
              "      <td>cold</td>\n",
              "      <td>normal</td>\n",
              "      <td>dark_cyanotic</td>\n",
              "      <td>more_3_sec</td>\n",
              "      <td>...</td>\n",
              "      <td>48.0</td>\n",
              "      <td>7.2</td>\n",
              "      <td>serosanguious</td>\n",
              "      <td>5.3</td>\n",
              "      <td>died</td>\n",
              "      <td>yes</td>\n",
              "      <td>2208</td>\n",
              "      <td>0</td>\n",
              "      <td>0</td>\n",
              "      <td>yes</td>\n",
              "    </tr>\n",
              "    <tr>\n",
              "      <th>4</th>\n",
              "      <td>no</td>\n",
              "      <td>adult</td>\n",
              "      <td>530255</td>\n",
              "      <td>37.3</td>\n",
              "      <td>104.0</td>\n",
              "      <td>35.0</td>\n",
              "      <td>NaN</td>\n",
              "      <td>NaN</td>\n",
              "      <td>dark_cyanotic</td>\n",
              "      <td>more_3_sec</td>\n",
              "      <td>...</td>\n",
              "      <td>74.0</td>\n",
              "      <td>7.4</td>\n",
              "      <td>NaN</td>\n",
              "      <td>NaN</td>\n",
              "      <td>died</td>\n",
              "      <td>no</td>\n",
              "      <td>4300</td>\n",
              "      <td>0</td>\n",
              "      <td>0</td>\n",
              "      <td>no</td>\n",
              "    </tr>\n",
              "  </tbody>\n",
              "</table>\n",
              "<p>5 rows × 28 columns</p>\n",
              "</div>\n",
              "      <button class=\"colab-df-convert\" onclick=\"convertToInteractive('df-8c7d145d-8beb-4d09-8d45-901e6631d78b')\"\n",
              "              title=\"Convert this dataframe to an interactive table.\"\n",
              "              style=\"display:none;\">\n",
              "        \n",
              "  <svg xmlns=\"http://www.w3.org/2000/svg\" height=\"24px\"viewBox=\"0 0 24 24\"\n",
              "       width=\"24px\">\n",
              "    <path d=\"M0 0h24v24H0V0z\" fill=\"none\"/>\n",
              "    <path d=\"M18.56 5.44l.94 2.06.94-2.06 2.06-.94-2.06-.94-.94-2.06-.94 2.06-2.06.94zm-11 1L8.5 8.5l.94-2.06 2.06-.94-2.06-.94L8.5 2.5l-.94 2.06-2.06.94zm10 10l.94 2.06.94-2.06 2.06-.94-2.06-.94-.94-2.06-.94 2.06-2.06.94z\"/><path d=\"M17.41 7.96l-1.37-1.37c-.4-.4-.92-.59-1.43-.59-.52 0-1.04.2-1.43.59L10.3 9.45l-7.72 7.72c-.78.78-.78 2.05 0 2.83L4 21.41c.39.39.9.59 1.41.59.51 0 1.02-.2 1.41-.59l7.78-7.78 2.81-2.81c.8-.78.8-2.07 0-2.86zM5.41 20L4 18.59l7.72-7.72 1.47 1.35L5.41 20z\"/>\n",
              "  </svg>\n",
              "      </button>\n",
              "      \n",
              "  <style>\n",
              "    .colab-df-container {\n",
              "      display:flex;\n",
              "      flex-wrap:wrap;\n",
              "      gap: 12px;\n",
              "    }\n",
              "\n",
              "    .colab-df-convert {\n",
              "      background-color: #E8F0FE;\n",
              "      border: none;\n",
              "      border-radius: 50%;\n",
              "      cursor: pointer;\n",
              "      display: none;\n",
              "      fill: #1967D2;\n",
              "      height: 32px;\n",
              "      padding: 0 0 0 0;\n",
              "      width: 32px;\n",
              "    }\n",
              "\n",
              "    .colab-df-convert:hover {\n",
              "      background-color: #E2EBFA;\n",
              "      box-shadow: 0px 1px 2px rgba(60, 64, 67, 0.3), 0px 1px 3px 1px rgba(60, 64, 67, 0.15);\n",
              "      fill: #174EA6;\n",
              "    }\n",
              "\n",
              "    [theme=dark] .colab-df-convert {\n",
              "      background-color: #3B4455;\n",
              "      fill: #D2E3FC;\n",
              "    }\n",
              "\n",
              "    [theme=dark] .colab-df-convert:hover {\n",
              "      background-color: #434B5C;\n",
              "      box-shadow: 0px 1px 3px 1px rgba(0, 0, 0, 0.15);\n",
              "      filter: drop-shadow(0px 1px 2px rgba(0, 0, 0, 0.3));\n",
              "      fill: #FFFFFF;\n",
              "    }\n",
              "  </style>\n",
              "\n",
              "      <script>\n",
              "        const buttonEl =\n",
              "          document.querySelector('#df-8c7d145d-8beb-4d09-8d45-901e6631d78b button.colab-df-convert');\n",
              "        buttonEl.style.display =\n",
              "          google.colab.kernel.accessAllowed ? 'block' : 'none';\n",
              "\n",
              "        async function convertToInteractive(key) {\n",
              "          const element = document.querySelector('#df-8c7d145d-8beb-4d09-8d45-901e6631d78b');\n",
              "          const dataTable =\n",
              "            await google.colab.kernel.invokeFunction('convertToInteractive',\n",
              "                                                     [key], {});\n",
              "          if (!dataTable) return;\n",
              "\n",
              "          const docLinkHtml = 'Like what you see? Visit the ' +\n",
              "            '<a target=\"_blank\" href=https://colab.research.google.com/notebooks/data_table.ipynb>data table notebook</a>'\n",
              "            + ' to learn more about interactive tables.';\n",
              "          element.innerHTML = '';\n",
              "          dataTable['output_type'] = 'display_data';\n",
              "          await google.colab.output.renderOutput(dataTable, element);\n",
              "          const docLink = document.createElement('div');\n",
              "          docLink.innerHTML = docLinkHtml;\n",
              "          element.appendChild(docLink);\n",
              "        }\n",
              "      </script>\n",
              "    </div>\n",
              "  </div>\n",
              "  "
            ]
          },
          "metadata": {},
          "execution_count": 3
        }
      ]
    },
    {
      "cell_type": "code",
      "source": [
        "df.isnull().sum()"
      ],
      "metadata": {
        "colab": {
          "base_uri": "https://localhost:8080/"
        },
        "id": "pzp_cLsHbV2x",
        "outputId": "dfbd49b0-8dcb-4f9c-d988-fea5285070d9"
      },
      "execution_count": null,
      "outputs": [
        {
          "output_type": "execute_result",
          "data": {
            "text/plain": [
              "surgery                    0\n",
              "age                        0\n",
              "hospital_number            0\n",
              "rectal_temp               60\n",
              "pulse                     24\n",
              "respiratory_rate          58\n",
              "temp_of_extremities       56\n",
              "peripheral_pulse          69\n",
              "mucous_membrane           47\n",
              "capillary_refill_time     32\n",
              "pain                      55\n",
              "peristalsis               44\n",
              "abdominal_distention      56\n",
              "nasogastric_tube         104\n",
              "nasogastric_reflux       106\n",
              "nasogastric_reflux_ph    246\n",
              "rectal_exam_feces        102\n",
              "abdomen                  118\n",
              "packed_cell_volume        29\n",
              "total_protein             33\n",
              "abdomo_appearance        165\n",
              "abdomo_protein           198\n",
              "outcome                    0\n",
              "surgical_lesion            0\n",
              "lesion_1                   0\n",
              "lesion_2                   0\n",
              "lesion_3                   0\n",
              "cp_data                    0\n",
              "dtype: int64"
            ]
          },
          "metadata": {},
          "execution_count": 4
        }
      ]
    },
    {
      "cell_type": "code",
      "source": [
        "df.drop('hospital_number', inplace=True, axis=1)\n",
        "df.drop('nasogastric_reflux_ph', inplace=True, axis=1)\n",
        "df.drop('abdomo_protein', inplace=True, axis=1)\n",
        "df.drop('abdomo_appearance', inplace=True, axis=1)\n",
        "df.drop('cp_data', inplace=True, axis=1)"
      ],
      "metadata": {
        "id": "F9APSaapbV5E"
      },
      "execution_count": null,
      "outputs": []
    },
    {
      "cell_type": "code",
      "source": [
        "df.head()"
      ],
      "metadata": {
        "colab": {
          "base_uri": "https://localhost:8080/",
          "height": 300
        },
        "id": "gllN9Z-hgm4-",
        "outputId": "eee97ccf-d67c-4aa0-a6b9-d8288d0a699e"
      },
      "execution_count": null,
      "outputs": [
        {
          "output_type": "execute_result",
          "data": {
            "text/plain": [
              "  surgery    age  rectal_temp  pulse  respiratory_rate temp_of_extremities  \\\n",
              "0      no  adult         38.5   66.0              28.0                cool   \n",
              "1     yes  adult         39.2   88.0              20.0                 NaN   \n",
              "2      no  adult         38.3   40.0              24.0              normal   \n",
              "3     yes  young         39.1  164.0              84.0                cold   \n",
              "4      no  adult         37.3  104.0              35.0                 NaN   \n",
              "\n",
              "  peripheral_pulse mucous_membrane capillary_refill_time          pain  ...  \\\n",
              "0          reduced             NaN            more_3_sec  extreme_pain  ...   \n",
              "1              NaN   pale_cyanotic            less_3_sec     mild_pain  ...   \n",
              "2           normal       pale_pink            less_3_sec     mild_pain  ...   \n",
              "3           normal   dark_cyanotic            more_3_sec     depressed  ...   \n",
              "4              NaN   dark_cyanotic            more_3_sec           NaN  ...   \n",
              "\n",
              "  nasogastric_reflux rectal_exam_feces        abdomen packed_cell_volume  \\\n",
              "0                NaN         decreased  distend_large               45.0   \n",
              "1                NaN            absent          other               50.0   \n",
              "2                NaN            normal         normal               33.0   \n",
              "3       less_1_liter         decreased            NaN               48.0   \n",
              "4                NaN               NaN            NaN               74.0   \n",
              "\n",
              "  total_protein     outcome  surgical_lesion  lesion_1 lesion_2 lesion_3  \n",
              "0           8.4        died               no     11300        0        0  \n",
              "1          85.0  euthanized               no      2208        0        0  \n",
              "2           6.7       lived               no         0        0        0  \n",
              "3           7.2        died              yes      2208        0        0  \n",
              "4           7.4        died               no      4300        0        0  \n",
              "\n",
              "[5 rows x 23 columns]"
            ],
            "text/html": [
              "\n",
              "  <div id=\"df-5e5aa0c9-8fb3-4597-9ce0-2a7a0d153163\">\n",
              "    <div class=\"colab-df-container\">\n",
              "      <div>\n",
              "<style scoped>\n",
              "    .dataframe tbody tr th:only-of-type {\n",
              "        vertical-align: middle;\n",
              "    }\n",
              "\n",
              "    .dataframe tbody tr th {\n",
              "        vertical-align: top;\n",
              "    }\n",
              "\n",
              "    .dataframe thead th {\n",
              "        text-align: right;\n",
              "    }\n",
              "</style>\n",
              "<table border=\"1\" class=\"dataframe\">\n",
              "  <thead>\n",
              "    <tr style=\"text-align: right;\">\n",
              "      <th></th>\n",
              "      <th>surgery</th>\n",
              "      <th>age</th>\n",
              "      <th>rectal_temp</th>\n",
              "      <th>pulse</th>\n",
              "      <th>respiratory_rate</th>\n",
              "      <th>temp_of_extremities</th>\n",
              "      <th>peripheral_pulse</th>\n",
              "      <th>mucous_membrane</th>\n",
              "      <th>capillary_refill_time</th>\n",
              "      <th>pain</th>\n",
              "      <th>...</th>\n",
              "      <th>nasogastric_reflux</th>\n",
              "      <th>rectal_exam_feces</th>\n",
              "      <th>abdomen</th>\n",
              "      <th>packed_cell_volume</th>\n",
              "      <th>total_protein</th>\n",
              "      <th>outcome</th>\n",
              "      <th>surgical_lesion</th>\n",
              "      <th>lesion_1</th>\n",
              "      <th>lesion_2</th>\n",
              "      <th>lesion_3</th>\n",
              "    </tr>\n",
              "  </thead>\n",
              "  <tbody>\n",
              "    <tr>\n",
              "      <th>0</th>\n",
              "      <td>no</td>\n",
              "      <td>adult</td>\n",
              "      <td>38.5</td>\n",
              "      <td>66.0</td>\n",
              "      <td>28.0</td>\n",
              "      <td>cool</td>\n",
              "      <td>reduced</td>\n",
              "      <td>NaN</td>\n",
              "      <td>more_3_sec</td>\n",
              "      <td>extreme_pain</td>\n",
              "      <td>...</td>\n",
              "      <td>NaN</td>\n",
              "      <td>decreased</td>\n",
              "      <td>distend_large</td>\n",
              "      <td>45.0</td>\n",
              "      <td>8.4</td>\n",
              "      <td>died</td>\n",
              "      <td>no</td>\n",
              "      <td>11300</td>\n",
              "      <td>0</td>\n",
              "      <td>0</td>\n",
              "    </tr>\n",
              "    <tr>\n",
              "      <th>1</th>\n",
              "      <td>yes</td>\n",
              "      <td>adult</td>\n",
              "      <td>39.2</td>\n",
              "      <td>88.0</td>\n",
              "      <td>20.0</td>\n",
              "      <td>NaN</td>\n",
              "      <td>NaN</td>\n",
              "      <td>pale_cyanotic</td>\n",
              "      <td>less_3_sec</td>\n",
              "      <td>mild_pain</td>\n",
              "      <td>...</td>\n",
              "      <td>NaN</td>\n",
              "      <td>absent</td>\n",
              "      <td>other</td>\n",
              "      <td>50.0</td>\n",
              "      <td>85.0</td>\n",
              "      <td>euthanized</td>\n",
              "      <td>no</td>\n",
              "      <td>2208</td>\n",
              "      <td>0</td>\n",
              "      <td>0</td>\n",
              "    </tr>\n",
              "    <tr>\n",
              "      <th>2</th>\n",
              "      <td>no</td>\n",
              "      <td>adult</td>\n",
              "      <td>38.3</td>\n",
              "      <td>40.0</td>\n",
              "      <td>24.0</td>\n",
              "      <td>normal</td>\n",
              "      <td>normal</td>\n",
              "      <td>pale_pink</td>\n",
              "      <td>less_3_sec</td>\n",
              "      <td>mild_pain</td>\n",
              "      <td>...</td>\n",
              "      <td>NaN</td>\n",
              "      <td>normal</td>\n",
              "      <td>normal</td>\n",
              "      <td>33.0</td>\n",
              "      <td>6.7</td>\n",
              "      <td>lived</td>\n",
              "      <td>no</td>\n",
              "      <td>0</td>\n",
              "      <td>0</td>\n",
              "      <td>0</td>\n",
              "    </tr>\n",
              "    <tr>\n",
              "      <th>3</th>\n",
              "      <td>yes</td>\n",
              "      <td>young</td>\n",
              "      <td>39.1</td>\n",
              "      <td>164.0</td>\n",
              "      <td>84.0</td>\n",
              "      <td>cold</td>\n",
              "      <td>normal</td>\n",
              "      <td>dark_cyanotic</td>\n",
              "      <td>more_3_sec</td>\n",
              "      <td>depressed</td>\n",
              "      <td>...</td>\n",
              "      <td>less_1_liter</td>\n",
              "      <td>decreased</td>\n",
              "      <td>NaN</td>\n",
              "      <td>48.0</td>\n",
              "      <td>7.2</td>\n",
              "      <td>died</td>\n",
              "      <td>yes</td>\n",
              "      <td>2208</td>\n",
              "      <td>0</td>\n",
              "      <td>0</td>\n",
              "    </tr>\n",
              "    <tr>\n",
              "      <th>4</th>\n",
              "      <td>no</td>\n",
              "      <td>adult</td>\n",
              "      <td>37.3</td>\n",
              "      <td>104.0</td>\n",
              "      <td>35.0</td>\n",
              "      <td>NaN</td>\n",
              "      <td>NaN</td>\n",
              "      <td>dark_cyanotic</td>\n",
              "      <td>more_3_sec</td>\n",
              "      <td>NaN</td>\n",
              "      <td>...</td>\n",
              "      <td>NaN</td>\n",
              "      <td>NaN</td>\n",
              "      <td>NaN</td>\n",
              "      <td>74.0</td>\n",
              "      <td>7.4</td>\n",
              "      <td>died</td>\n",
              "      <td>no</td>\n",
              "      <td>4300</td>\n",
              "      <td>0</td>\n",
              "      <td>0</td>\n",
              "    </tr>\n",
              "  </tbody>\n",
              "</table>\n",
              "<p>5 rows × 23 columns</p>\n",
              "</div>\n",
              "      <button class=\"colab-df-convert\" onclick=\"convertToInteractive('df-5e5aa0c9-8fb3-4597-9ce0-2a7a0d153163')\"\n",
              "              title=\"Convert this dataframe to an interactive table.\"\n",
              "              style=\"display:none;\">\n",
              "        \n",
              "  <svg xmlns=\"http://www.w3.org/2000/svg\" height=\"24px\"viewBox=\"0 0 24 24\"\n",
              "       width=\"24px\">\n",
              "    <path d=\"M0 0h24v24H0V0z\" fill=\"none\"/>\n",
              "    <path d=\"M18.56 5.44l.94 2.06.94-2.06 2.06-.94-2.06-.94-.94-2.06-.94 2.06-2.06.94zm-11 1L8.5 8.5l.94-2.06 2.06-.94-2.06-.94L8.5 2.5l-.94 2.06-2.06.94zm10 10l.94 2.06.94-2.06 2.06-.94-2.06-.94-.94-2.06-.94 2.06-2.06.94z\"/><path d=\"M17.41 7.96l-1.37-1.37c-.4-.4-.92-.59-1.43-.59-.52 0-1.04.2-1.43.59L10.3 9.45l-7.72 7.72c-.78.78-.78 2.05 0 2.83L4 21.41c.39.39.9.59 1.41.59.51 0 1.02-.2 1.41-.59l7.78-7.78 2.81-2.81c.8-.78.8-2.07 0-2.86zM5.41 20L4 18.59l7.72-7.72 1.47 1.35L5.41 20z\"/>\n",
              "  </svg>\n",
              "      </button>\n",
              "      \n",
              "  <style>\n",
              "    .colab-df-container {\n",
              "      display:flex;\n",
              "      flex-wrap:wrap;\n",
              "      gap: 12px;\n",
              "    }\n",
              "\n",
              "    .colab-df-convert {\n",
              "      background-color: #E8F0FE;\n",
              "      border: none;\n",
              "      border-radius: 50%;\n",
              "      cursor: pointer;\n",
              "      display: none;\n",
              "      fill: #1967D2;\n",
              "      height: 32px;\n",
              "      padding: 0 0 0 0;\n",
              "      width: 32px;\n",
              "    }\n",
              "\n",
              "    .colab-df-convert:hover {\n",
              "      background-color: #E2EBFA;\n",
              "      box-shadow: 0px 1px 2px rgba(60, 64, 67, 0.3), 0px 1px 3px 1px rgba(60, 64, 67, 0.15);\n",
              "      fill: #174EA6;\n",
              "    }\n",
              "\n",
              "    [theme=dark] .colab-df-convert {\n",
              "      background-color: #3B4455;\n",
              "      fill: #D2E3FC;\n",
              "    }\n",
              "\n",
              "    [theme=dark] .colab-df-convert:hover {\n",
              "      background-color: #434B5C;\n",
              "      box-shadow: 0px 1px 3px 1px rgba(0, 0, 0, 0.15);\n",
              "      filter: drop-shadow(0px 1px 2px rgba(0, 0, 0, 0.3));\n",
              "      fill: #FFFFFF;\n",
              "    }\n",
              "  </style>\n",
              "\n",
              "      <script>\n",
              "        const buttonEl =\n",
              "          document.querySelector('#df-5e5aa0c9-8fb3-4597-9ce0-2a7a0d153163 button.colab-df-convert');\n",
              "        buttonEl.style.display =\n",
              "          google.colab.kernel.accessAllowed ? 'block' : 'none';\n",
              "\n",
              "        async function convertToInteractive(key) {\n",
              "          const element = document.querySelector('#df-5e5aa0c9-8fb3-4597-9ce0-2a7a0d153163');\n",
              "          const dataTable =\n",
              "            await google.colab.kernel.invokeFunction('convertToInteractive',\n",
              "                                                     [key], {});\n",
              "          if (!dataTable) return;\n",
              "\n",
              "          const docLinkHtml = 'Like what you see? Visit the ' +\n",
              "            '<a target=\"_blank\" href=https://colab.research.google.com/notebooks/data_table.ipynb>data table notebook</a>'\n",
              "            + ' to learn more about interactive tables.';\n",
              "          element.innerHTML = '';\n",
              "          dataTable['output_type'] = 'display_data';\n",
              "          await google.colab.output.renderOutput(dataTable, element);\n",
              "          const docLink = document.createElement('div');\n",
              "          docLink.innerHTML = docLinkHtml;\n",
              "          element.appendChild(docLink);\n",
              "        }\n",
              "      </script>\n",
              "    </div>\n",
              "  </div>\n",
              "  "
            ]
          },
          "metadata": {},
          "execution_count": 6
        }
      ]
    },
    {
      "cell_type": "code",
      "source": [
        "df.nunique()"
      ],
      "metadata": {
        "colab": {
          "base_uri": "https://localhost:8080/"
        },
        "id": "kN-0lkC2gi6c",
        "outputId": "3249480b-1d3a-4c95-bce9-51416cc24bf5"
      },
      "execution_count": null,
      "outputs": [
        {
          "output_type": "execute_result",
          "data": {
            "text/plain": [
              "surgery                   2\n",
              "age                       2\n",
              "rectal_temp              40\n",
              "pulse                    52\n",
              "respiratory_rate         40\n",
              "temp_of_extremities       4\n",
              "peripheral_pulse          4\n",
              "mucous_membrane           6\n",
              "capillary_refill_time     3\n",
              "pain                      5\n",
              "peristalsis               4\n",
              "abdominal_distention      4\n",
              "nasogastric_tube          3\n",
              "nasogastric_reflux        3\n",
              "rectal_exam_feces         4\n",
              "abdomen                   5\n",
              "packed_cell_volume       50\n",
              "total_protein            80\n",
              "outcome                   3\n",
              "surgical_lesion           2\n",
              "lesion_1                 61\n",
              "lesion_2                  6\n",
              "lesion_3                  2\n",
              "dtype: int64"
            ]
          },
          "metadata": {},
          "execution_count": 7
        }
      ]
    },
    {
      "cell_type": "code",
      "source": [
        "df.dtypes"
      ],
      "metadata": {
        "colab": {
          "base_uri": "https://localhost:8080/"
        },
        "id": "YNq9N0l1hMEL",
        "outputId": "cdbd9697-ee8b-4289-eae9-4a1d348bae92"
      },
      "execution_count": null,
      "outputs": [
        {
          "output_type": "execute_result",
          "data": {
            "text/plain": [
              "surgery                   object\n",
              "age                       object\n",
              "rectal_temp              float64\n",
              "pulse                    float64\n",
              "respiratory_rate         float64\n",
              "temp_of_extremities       object\n",
              "peripheral_pulse          object\n",
              "mucous_membrane           object\n",
              "capillary_refill_time     object\n",
              "pain                      object\n",
              "peristalsis               object\n",
              "abdominal_distention      object\n",
              "nasogastric_tube          object\n",
              "nasogastric_reflux        object\n",
              "rectal_exam_feces         object\n",
              "abdomen                   object\n",
              "packed_cell_volume       float64\n",
              "total_protein            float64\n",
              "outcome                   object\n",
              "surgical_lesion           object\n",
              "lesion_1                   int64\n",
              "lesion_2                   int64\n",
              "lesion_3                   int64\n",
              "dtype: object"
            ]
          },
          "metadata": {},
          "execution_count": 8
        }
      ]
    },
    {
      "cell_type": "code",
      "source": [
        "df.describe()"
      ],
      "metadata": {
        "colab": {
          "base_uri": "https://localhost:8080/",
          "height": 300
        },
        "id": "wVRwWZbtbV7z",
        "outputId": "074ae2f7-fdd6-41d1-f735-7c60bbba9a76"
      },
      "execution_count": null,
      "outputs": [
        {
          "output_type": "execute_result",
          "data": {
            "text/plain": [
              "       rectal_temp       pulse  respiratory_rate  packed_cell_volume  \\\n",
              "count   239.000000  275.000000        241.000000          270.000000   \n",
              "mean     38.168619   72.000000         30.460581           46.307407   \n",
              "std       0.733744   28.646219         17.666102           10.436743   \n",
              "min      35.400000   30.000000          8.000000           23.000000   \n",
              "25%      37.800000   48.000000         18.000000           38.000000   \n",
              "50%      38.200000   64.000000         25.000000           45.000000   \n",
              "75%      38.500000   88.000000         36.000000           52.000000   \n",
              "max      40.800000  184.000000         96.000000           75.000000   \n",
              "\n",
              "       total_protein      lesion_1     lesion_2     lesion_3  \n",
              "count     266.000000    299.000000   299.000000   299.000000  \n",
              "mean       24.274436   3659.709030    90.528428     7.387960  \n",
              "std        27.364194   5408.472421   650.637139   127.749768  \n",
              "min         3.300000      0.000000     0.000000     0.000000  \n",
              "25%         6.500000   2111.500000     0.000000     0.000000  \n",
              "50%         7.500000   2322.000000     0.000000     0.000000  \n",
              "75%        56.750000   3209.000000     0.000000     0.000000  \n",
              "max        89.000000  41110.000000  7111.000000  2209.000000  "
            ],
            "text/html": [
              "\n",
              "  <div id=\"df-f04882a1-e8e5-4b73-8100-a32cb4a0e026\">\n",
              "    <div class=\"colab-df-container\">\n",
              "      <div>\n",
              "<style scoped>\n",
              "    .dataframe tbody tr th:only-of-type {\n",
              "        vertical-align: middle;\n",
              "    }\n",
              "\n",
              "    .dataframe tbody tr th {\n",
              "        vertical-align: top;\n",
              "    }\n",
              "\n",
              "    .dataframe thead th {\n",
              "        text-align: right;\n",
              "    }\n",
              "</style>\n",
              "<table border=\"1\" class=\"dataframe\">\n",
              "  <thead>\n",
              "    <tr style=\"text-align: right;\">\n",
              "      <th></th>\n",
              "      <th>rectal_temp</th>\n",
              "      <th>pulse</th>\n",
              "      <th>respiratory_rate</th>\n",
              "      <th>packed_cell_volume</th>\n",
              "      <th>total_protein</th>\n",
              "      <th>lesion_1</th>\n",
              "      <th>lesion_2</th>\n",
              "      <th>lesion_3</th>\n",
              "    </tr>\n",
              "  </thead>\n",
              "  <tbody>\n",
              "    <tr>\n",
              "      <th>count</th>\n",
              "      <td>239.000000</td>\n",
              "      <td>275.000000</td>\n",
              "      <td>241.000000</td>\n",
              "      <td>270.000000</td>\n",
              "      <td>266.000000</td>\n",
              "      <td>299.000000</td>\n",
              "      <td>299.000000</td>\n",
              "      <td>299.000000</td>\n",
              "    </tr>\n",
              "    <tr>\n",
              "      <th>mean</th>\n",
              "      <td>38.168619</td>\n",
              "      <td>72.000000</td>\n",
              "      <td>30.460581</td>\n",
              "      <td>46.307407</td>\n",
              "      <td>24.274436</td>\n",
              "      <td>3659.709030</td>\n",
              "      <td>90.528428</td>\n",
              "      <td>7.387960</td>\n",
              "    </tr>\n",
              "    <tr>\n",
              "      <th>std</th>\n",
              "      <td>0.733744</td>\n",
              "      <td>28.646219</td>\n",
              "      <td>17.666102</td>\n",
              "      <td>10.436743</td>\n",
              "      <td>27.364194</td>\n",
              "      <td>5408.472421</td>\n",
              "      <td>650.637139</td>\n",
              "      <td>127.749768</td>\n",
              "    </tr>\n",
              "    <tr>\n",
              "      <th>min</th>\n",
              "      <td>35.400000</td>\n",
              "      <td>30.000000</td>\n",
              "      <td>8.000000</td>\n",
              "      <td>23.000000</td>\n",
              "      <td>3.300000</td>\n",
              "      <td>0.000000</td>\n",
              "      <td>0.000000</td>\n",
              "      <td>0.000000</td>\n",
              "    </tr>\n",
              "    <tr>\n",
              "      <th>25%</th>\n",
              "      <td>37.800000</td>\n",
              "      <td>48.000000</td>\n",
              "      <td>18.000000</td>\n",
              "      <td>38.000000</td>\n",
              "      <td>6.500000</td>\n",
              "      <td>2111.500000</td>\n",
              "      <td>0.000000</td>\n",
              "      <td>0.000000</td>\n",
              "    </tr>\n",
              "    <tr>\n",
              "      <th>50%</th>\n",
              "      <td>38.200000</td>\n",
              "      <td>64.000000</td>\n",
              "      <td>25.000000</td>\n",
              "      <td>45.000000</td>\n",
              "      <td>7.500000</td>\n",
              "      <td>2322.000000</td>\n",
              "      <td>0.000000</td>\n",
              "      <td>0.000000</td>\n",
              "    </tr>\n",
              "    <tr>\n",
              "      <th>75%</th>\n",
              "      <td>38.500000</td>\n",
              "      <td>88.000000</td>\n",
              "      <td>36.000000</td>\n",
              "      <td>52.000000</td>\n",
              "      <td>56.750000</td>\n",
              "      <td>3209.000000</td>\n",
              "      <td>0.000000</td>\n",
              "      <td>0.000000</td>\n",
              "    </tr>\n",
              "    <tr>\n",
              "      <th>max</th>\n",
              "      <td>40.800000</td>\n",
              "      <td>184.000000</td>\n",
              "      <td>96.000000</td>\n",
              "      <td>75.000000</td>\n",
              "      <td>89.000000</td>\n",
              "      <td>41110.000000</td>\n",
              "      <td>7111.000000</td>\n",
              "      <td>2209.000000</td>\n",
              "    </tr>\n",
              "  </tbody>\n",
              "</table>\n",
              "</div>\n",
              "      <button class=\"colab-df-convert\" onclick=\"convertToInteractive('df-f04882a1-e8e5-4b73-8100-a32cb4a0e026')\"\n",
              "              title=\"Convert this dataframe to an interactive table.\"\n",
              "              style=\"display:none;\">\n",
              "        \n",
              "  <svg xmlns=\"http://www.w3.org/2000/svg\" height=\"24px\"viewBox=\"0 0 24 24\"\n",
              "       width=\"24px\">\n",
              "    <path d=\"M0 0h24v24H0V0z\" fill=\"none\"/>\n",
              "    <path d=\"M18.56 5.44l.94 2.06.94-2.06 2.06-.94-2.06-.94-.94-2.06-.94 2.06-2.06.94zm-11 1L8.5 8.5l.94-2.06 2.06-.94-2.06-.94L8.5 2.5l-.94 2.06-2.06.94zm10 10l.94 2.06.94-2.06 2.06-.94-2.06-.94-.94-2.06-.94 2.06-2.06.94z\"/><path d=\"M17.41 7.96l-1.37-1.37c-.4-.4-.92-.59-1.43-.59-.52 0-1.04.2-1.43.59L10.3 9.45l-7.72 7.72c-.78.78-.78 2.05 0 2.83L4 21.41c.39.39.9.59 1.41.59.51 0 1.02-.2 1.41-.59l7.78-7.78 2.81-2.81c.8-.78.8-2.07 0-2.86zM5.41 20L4 18.59l7.72-7.72 1.47 1.35L5.41 20z\"/>\n",
              "  </svg>\n",
              "      </button>\n",
              "      \n",
              "  <style>\n",
              "    .colab-df-container {\n",
              "      display:flex;\n",
              "      flex-wrap:wrap;\n",
              "      gap: 12px;\n",
              "    }\n",
              "\n",
              "    .colab-df-convert {\n",
              "      background-color: #E8F0FE;\n",
              "      border: none;\n",
              "      border-radius: 50%;\n",
              "      cursor: pointer;\n",
              "      display: none;\n",
              "      fill: #1967D2;\n",
              "      height: 32px;\n",
              "      padding: 0 0 0 0;\n",
              "      width: 32px;\n",
              "    }\n",
              "\n",
              "    .colab-df-convert:hover {\n",
              "      background-color: #E2EBFA;\n",
              "      box-shadow: 0px 1px 2px rgba(60, 64, 67, 0.3), 0px 1px 3px 1px rgba(60, 64, 67, 0.15);\n",
              "      fill: #174EA6;\n",
              "    }\n",
              "\n",
              "    [theme=dark] .colab-df-convert {\n",
              "      background-color: #3B4455;\n",
              "      fill: #D2E3FC;\n",
              "    }\n",
              "\n",
              "    [theme=dark] .colab-df-convert:hover {\n",
              "      background-color: #434B5C;\n",
              "      box-shadow: 0px 1px 3px 1px rgba(0, 0, 0, 0.15);\n",
              "      filter: drop-shadow(0px 1px 2px rgba(0, 0, 0, 0.3));\n",
              "      fill: #FFFFFF;\n",
              "    }\n",
              "  </style>\n",
              "\n",
              "      <script>\n",
              "        const buttonEl =\n",
              "          document.querySelector('#df-f04882a1-e8e5-4b73-8100-a32cb4a0e026 button.colab-df-convert');\n",
              "        buttonEl.style.display =\n",
              "          google.colab.kernel.accessAllowed ? 'block' : 'none';\n",
              "\n",
              "        async function convertToInteractive(key) {\n",
              "          const element = document.querySelector('#df-f04882a1-e8e5-4b73-8100-a32cb4a0e026');\n",
              "          const dataTable =\n",
              "            await google.colab.kernel.invokeFunction('convertToInteractive',\n",
              "                                                     [key], {});\n",
              "          if (!dataTable) return;\n",
              "\n",
              "          const docLinkHtml = 'Like what you see? Visit the ' +\n",
              "            '<a target=\"_blank\" href=https://colab.research.google.com/notebooks/data_table.ipynb>data table notebook</a>'\n",
              "            + ' to learn more about interactive tables.';\n",
              "          element.innerHTML = '';\n",
              "          dataTable['output_type'] = 'display_data';\n",
              "          await google.colab.output.renderOutput(dataTable, element);\n",
              "          const docLink = document.createElement('div');\n",
              "          docLink.innerHTML = docLinkHtml;\n",
              "          element.appendChild(docLink);\n",
              "        }\n",
              "      </script>\n",
              "    </div>\n",
              "  </div>\n",
              "  "
            ]
          },
          "metadata": {},
          "execution_count": 9
        }
      ]
    },
    {
      "cell_type": "code",
      "source": [
        "# df.info\n"
      ],
      "metadata": {
        "id": "FdxXm-CqbV-M"
      },
      "execution_count": null,
      "outputs": []
    },
    {
      "cell_type": "code",
      "source": [
        "#replacing mean values in column with int or float\n",
        "mean_to_replace={\"rectal_temp\": 38.17,\"pulse\": 72,\"respiratory_rate\": 30.46,\"packed_cell_volume\": 46.31,\"total_protein\": 24.27}\n",
        "df=df.fillna(value=mean_to_replace)"
      ],
      "metadata": {
        "id": "sDeM5tDxbWAs"
      },
      "execution_count": null,
      "outputs": []
    },
    {
      "cell_type": "code",
      "source": [
        "df.isnull().sum() #to check if nan gone"
      ],
      "metadata": {
        "colab": {
          "base_uri": "https://localhost:8080/"
        },
        "id": "FdYJYKXLbWDV",
        "outputId": "acf36053-b278-4cd8-a8aa-8239852a0a74"
      },
      "execution_count": null,
      "outputs": [
        {
          "output_type": "execute_result",
          "data": {
            "text/plain": [
              "surgery                    0\n",
              "age                        0\n",
              "rectal_temp                0\n",
              "pulse                      0\n",
              "respiratory_rate           0\n",
              "temp_of_extremities       56\n",
              "peripheral_pulse          69\n",
              "mucous_membrane           47\n",
              "capillary_refill_time     32\n",
              "pain                      55\n",
              "peristalsis               44\n",
              "abdominal_distention      56\n",
              "nasogastric_tube         104\n",
              "nasogastric_reflux       106\n",
              "rectal_exam_feces        102\n",
              "abdomen                  118\n",
              "packed_cell_volume         0\n",
              "total_protein              0\n",
              "outcome                    0\n",
              "surgical_lesion            0\n",
              "lesion_1                   0\n",
              "lesion_2                   0\n",
              "lesion_3                   0\n",
              "dtype: int64"
            ]
          },
          "metadata": {},
          "execution_count": 12
        }
      ]
    },
    {
      "cell_type": "code",
      "source": [
        "df['surgery'].unique()\n"
      ],
      "metadata": {
        "colab": {
          "base_uri": "https://localhost:8080/"
        },
        "id": "6NFrAEF5bWF5",
        "outputId": "b1cb14ae-14cf-43df-ad21-cb7b1f1e1d39"
      },
      "execution_count": null,
      "outputs": [
        {
          "output_type": "execute_result",
          "data": {
            "text/plain": [
              "array(['no', 'yes'], dtype=object)"
            ]
          },
          "metadata": {},
          "execution_count": 13
        }
      ]
    },
    {
      "cell_type": "code",
      "source": [
        "df=df.replace({'surgery': {'no': 0, 'yes': 1}}) #replacing no as 0 and yes as 1 in surgery column\n",
        "df=df.replace({'age': {'young': 0, 'adult': 1}}) #replacing no as 0 and yes as 1 in age column\n",
        "df=df.replace({'temp_of_extremities': {'cold': 1, 'cool': 2 ,'normal': 3 ,'warm': 4 }})\n",
        "df=df.replace({'peripheral_pulse': {'absent': 0, 'reduced': 1, 'normal': 2, 'increased':3}})\n",
        "df=df.replace({'mucous_membrane': {'pale_cyanotic':0, 'pale_pink':1, 'dark_cyanotic':2, 'normal_pink':3,'bright_red':4, 'bright_pink':5}})\n",
        "df=df.replace({'capillary_refill_time': {'more_3_sec': 2, 'less_3_sec': 0, '3':1}})\n",
        "df=df.replace({'pain': {'extreme_pain':4, 'mild_pain':2, 'depressed':1,'severe_pain':3,'alert':0}})\n",
        "df=df.replace({'peristalsis': {'absent':0, 'hypomotile':1,'hypermotile':3, 'normal':2}})\n",
        "df=df.replace({'abdominal_distention': {'severe':3, 'slight':1, 'none':0,'moderate':2}})\n",
        "df=df.replace({'nasogastric_tube': {'none':0, 'slight':1, 'significant':2}})\n",
        "df=df.replace({'nasogastric_reflux': {'less_1_liter':1, 'none':0, 'more_1_liter':2}})\n",
        "df=df.replace({'rectal_exam_feces': {'decreased':1, 'absent':0, 'normal':2,'increased':3}})\n",
        "df=df.replace({'abdomen': {'distend_large':4, 'other':0, 'normal':3, 'firm':2, 'distend_small':1}})\n",
        "df=df.replace({'outcome': {'died':0, 'euthanized':1, 'lived':2}})\n",
        "df=df.replace({'surgical_lesion': {'no': 0, 'yes': 1}})\n",
        "\n"
      ],
      "metadata": {
        "id": "thdR8ui6bWIM"
      },
      "execution_count": null,
      "outputs": []
    },
    {
      "cell_type": "code",
      "source": [
        "df.dtypes"
      ],
      "metadata": {
        "id": "MwVVPuz4bWKl",
        "colab": {
          "base_uri": "https://localhost:8080/"
        },
        "outputId": "aa9c60ca-68b6-4581-efa7-3bd8c1f021b1"
      },
      "execution_count": null,
      "outputs": [
        {
          "output_type": "execute_result",
          "data": {
            "text/plain": [
              "surgery                    int64\n",
              "age                        int64\n",
              "rectal_temp              float64\n",
              "pulse                    float64\n",
              "respiratory_rate         float64\n",
              "temp_of_extremities      float64\n",
              "peripheral_pulse         float64\n",
              "mucous_membrane          float64\n",
              "capillary_refill_time    float64\n",
              "pain                     float64\n",
              "peristalsis              float64\n",
              "abdominal_distention     float64\n",
              "nasogastric_tube         float64\n",
              "nasogastric_reflux       float64\n",
              "rectal_exam_feces        float64\n",
              "abdomen                  float64\n",
              "packed_cell_volume       float64\n",
              "total_protein            float64\n",
              "outcome                    int64\n",
              "surgical_lesion            int64\n",
              "lesion_1                   int64\n",
              "lesion_2                   int64\n",
              "lesion_3                   int64\n",
              "dtype: object"
            ]
          },
          "metadata": {},
          "execution_count": 15
        }
      ]
    },
    {
      "cell_type": "code",
      "source": [
        "df=df.dropna(how='any')"
      ],
      "metadata": {
        "id": "NZXBuQEQSzan"
      },
      "execution_count": null,
      "outputs": []
    },
    {
      "cell_type": "code",
      "source": [
        "#preprocessing done\n",
        "X = df.drop('outcome',axis= 1)\n",
        "y = df['outcome']\n",
        "print(X)\n",
        "print(y)"
      ],
      "metadata": {
        "id": "nXJASZQPToxi",
        "colab": {
          "base_uri": "https://localhost:8080/"
        },
        "outputId": "65549366-afc6-4094-fdfd-4b5825135832"
      },
      "execution_count": null,
      "outputs": [
        {
          "output_type": "stream",
          "name": "stdout",
          "text": [
            "     surgery  age  rectal_temp  pulse  respiratory_rate  temp_of_extremities  \\\n",
            "5          0    1        38.17   72.0             30.46                  4.0   \n",
            "6          1    1        37.90   48.0             16.00                  3.0   \n",
            "8          0    1        38.17   80.0             36.00                  2.0   \n",
            "10         1    1        38.10   66.0             12.00                  2.0   \n",
            "12         1    1        37.20   42.0             12.00                  4.0   \n",
            "..       ...  ...          ...    ...               ...                  ...   \n",
            "284        1    1        38.50   66.0             24.00                  3.0   \n",
            "290        1    1        38.90   80.0             44.00                  2.0   \n",
            "295        0    1        37.20   72.0             24.00                  2.0   \n",
            "296        1    1        37.50   72.0             30.00                  1.0   \n",
            "297        1    1        36.50  100.0             24.00                  2.0   \n",
            "\n",
            "     peripheral_pulse  mucous_membrane  capillary_refill_time  pain  ...  \\\n",
            "5                 2.0              1.0                    0.0   1.0  ...   \n",
            "6                 2.0              3.0                    0.0   2.0  ...   \n",
            "8                 0.0              1.0                    0.0   3.0  ...   \n",
            "10                1.0              4.0                    0.0   2.0  ...   \n",
            "12                2.0              3.0                    0.0   2.0  ...   \n",
            "..                ...              ...                    ...   ...  ...   \n",
            "284               2.0              3.0                    0.0   2.0  ...   \n",
            "290               1.0              1.0                    0.0   1.0  ...   \n",
            "295               3.0              0.0                    2.0   3.0  ...   \n",
            "296               1.0              0.0                    0.0   3.0  ...   \n",
            "297               1.0              1.0                    0.0   2.0  ...   \n",
            "\n",
            "     nasogastric_tube  nasogastric_reflux  rectal_exam_feces  abdomen  \\\n",
            "5                 1.0                 0.0                1.0      2.0   \n",
            "6                 0.0                 0.0                1.0      4.0   \n",
            "8                 1.0                 0.0                1.0      4.0   \n",
            "10                1.0                 0.0                3.0      4.0   \n",
            "12                2.0                 0.0                0.0      4.0   \n",
            "..                ...                 ...                ...      ...   \n",
            "284               1.0                 0.0                0.0      4.0   \n",
            "290               1.0                 1.0                1.0      3.0   \n",
            "295               2.0                 0.0                0.0      1.0   \n",
            "296               1.0                 0.0                1.0      4.0   \n",
            "297               2.0                 0.0                0.0      1.0   \n",
            "\n",
            "     packed_cell_volume  total_protein  surgical_lesion  lesion_1  lesion_2  \\\n",
            "5                 46.31          24.27                0         0         0   \n",
            "6                 37.00           7.00                1      3124         0   \n",
            "8                 38.00           6.20                1      3205         0   \n",
            "10                44.00           6.00                1      2124         0   \n",
            "12                46.31           7.00                0      4124         0   \n",
            "..                  ...            ...              ...       ...       ...   \n",
            "284               40.00           6.70                1     31110         0   \n",
            "290               54.00           6.50                1      7111         0   \n",
            "295               44.00          24.27                1      2208         0   \n",
            "296               60.00           6.80                1      3205         0   \n",
            "297               50.00           6.00                1      2208         0   \n",
            "\n",
            "     lesion_3  \n",
            "5           0  \n",
            "6           0  \n",
            "8           0  \n",
            "10          0  \n",
            "12          0  \n",
            "..        ...  \n",
            "284         0  \n",
            "290         0  \n",
            "295         0  \n",
            "296         0  \n",
            "297         0  \n",
            "\n",
            "[84 rows x 22 columns]\n",
            "5      2\n",
            "6      2\n",
            "8      1\n",
            "10     2\n",
            "12     2\n",
            "      ..\n",
            "284    2\n",
            "290    0\n",
            "295    1\n",
            "296    0\n",
            "297    2\n",
            "Name: outcome, Length: 84, dtype: int64\n"
          ]
        }
      ]
    },
    {
      "cell_type": "code",
      "source": [
        "import seaborn as sns\n",
        "corr = df.corr()\n",
        "sns.heatmap(corr, \n",
        "            xticklabels=corr.columns.values,\n",
        "            yticklabels=corr.columns.values)"
      ],
      "metadata": {
        "colab": {
          "base_uri": "https://localhost:8080/",
          "height": 384
        },
        "id": "kIoC6W6cicB2",
        "outputId": "d08aaad0-fe43-48ec-c15c-838fa2c13102"
      },
      "execution_count": null,
      "outputs": [
        {
          "output_type": "execute_result",
          "data": {
            "text/plain": [
              "<matplotlib.axes._subplots.AxesSubplot at 0x7f63d9811d10>"
            ]
          },
          "metadata": {},
          "execution_count": 18
        },
        {
          "output_type": "display_data",
          "data": {
            "text/plain": [
              "<Figure size 432x288 with 2 Axes>"
            ],
            "image/png": "[encoded data removed]"
          },
          "metadata": {
            "needs_background": "light"
          }
        }
      ]
    },
    {
      "cell_type": "code",
      "source": [
        "# creating train and test sets\n",
        "X_train, X_test, y_train, y_test = train_test_split(\n",
        "    X, y, test_size=0.3, random_state=101)"
      ],
      "metadata": {
        "id": "9vN6Ts1xS0KY"
      },
      "execution_count": null,
      "outputs": []
    },
    {
      "cell_type": "markdown",
      "source": [
        "## Linear regression model"
      ],
      "metadata": {
        "id": "joZ5H3uXoM41"
      }
    },
    {
      "cell_type": "code",
      "source": [
        "# creating a regression model\n",
        "model = LinearRegression()\n"
      ],
      "metadata": {
        "id": "eRhO2urJS0ZY"
      },
      "execution_count": null,
      "outputs": []
    },
    {
      "cell_type": "code",
      "source": [
        "# fitting the model\n",
        "model.fit(X_train,y_train)\n"
      ],
      "metadata": {
        "id": "ZDm77LSnS0mX",
        "colab": {
          "base_uri": "https://localhost:8080/"
        },
        "outputId": "6e0c3f95-d54d-4529-bf52-a718b2de079e"
      },
      "execution_count": null,
      "outputs": [
        {
          "output_type": "execute_result",
          "data": {
            "text/plain": [
              "LinearRegression()"
            ]
          },
          "metadata": {},
          "execution_count": 32
        }
      ]
    },
    {
      "cell_type": "code",
      "source": [
        "# making predictions\n",
        "predictions = model.predict(X_test)\n",
        "x_axis=[x for x in range(1,len(predictions)+1) ]"
      ],
      "metadata": {
        "id": "xNjfBO-M_ugp"
      },
      "execution_count": null,
      "outputs": []
    },
    {
      "cell_type": "code",
      "source": [
        "from sklearn.metrics import mean_squared_error\n",
        "import math\n",
        "from sklearn.metrics import r2_score\n",
        "# model evaluation\n",
        "print(\n",
        "'mean_squared_error : ', mean_squared_error(y_test, predictions))\n",
        "print(\n",
        "'mean_absolute_error : ', mean_absolute_error(y_test, predictions))\n",
        "print('root_mean_error : ', math.sqrt(mean_squared_error(y_test, predictions)))\n",
        "\n",
        "r2 = r2_score(y_test,predictions)\n",
        "print(\"R-squared\",r2)"
      ],
      "metadata": {
        "id": "TR2XQ4ZD_xJo",
        "colab": {
          "base_uri": "https://localhost:8080/"
        },
        "outputId": "eb27e791-a959-4250-baa1-535a1a002042"
      },
      "execution_count": null,
      "outputs": [
        {
          "output_type": "stream",
          "name": "stdout",
          "text": [
            "mean_squared_error :  0.7808953768103482\n",
            "mean_absolute_error :  0.6547181448671652\n",
            "root_mean_error :  0.8836828485437228\n",
            "R-squared 0.13176764025691534\n"
          ]
        }
      ]
    },
    {
      "cell_type": "code",
      "source": [
        "from sklearn.metrics import r2_score\n"
      ],
      "metadata": {
        "colab": {
          "base_uri": "https://localhost:8080/"
        },
        "id": "aURyglyrpJid",
        "outputId": "8448ea10-e989-40e1-d5fc-447476b61beb"
      },
      "execution_count": null,
      "outputs": [
        {
          "output_type": "stream",
          "name": "stdout",
          "text": [
            "0.13176764025691534\n"
          ]
        }
      ]
    },
    {
      "cell_type": "code",
      "source": [],
      "metadata": {
        "id": "rtXObPJSpJk1"
      },
      "execution_count": null,
      "outputs": []
    },
    {
      "cell_type": "code",
      "source": [
        "import matplotlib.pyplot as plt\n",
        "\n",
        "# plot lines\n",
        "plt.plot(x_axis, predictions, label = \"predictions\")\n",
        "plt.plot(x_axis, y_test, label = \"y test\")\n",
        "plt.legend()\n",
        "plt.show()"
      ],
      "metadata": {
        "id": "kGQpWh61JBj4",
        "colab": {
          "base_uri": "https://localhost:8080/",
          "height": 265
        },
        "outputId": "85907353-f796-4f4c-9747-94e643753952"
      },
      "execution_count": null,
      "outputs": [
        {
          "output_type": "display_data",
          "data": {
            "text/plain": [
              "<Figure size 432x288 with 1 Axes>"
            ],
            "image/png": "[encoded data removed]"
          },
          "metadata": {
            "needs_background": "light"
          }
        }
      ]
    },
    {
      "cell_type": "markdown",
      "source": [
        "## Logistic regression model"
      ],
      "metadata": {
        "id": "pSki0ImOoSod"
      }
    },
    {
      "cell_type": "code",
      "source": [
        "# import the class\n",
        "from sklearn.linear_model import LogisticRegression\n",
        "\n",
        "# instantiate the model (using the default parameters)\n",
        "logreg = LogisticRegression(random_state=100)\n",
        "\n",
        "# fit the model with data\n",
        "logreg.fit(X_train, y_train)\n",
        "\n",
        "y_pred = logreg.predict(X_test)\n"
      ],
      "metadata": {
        "id": "bewSxu2Z_xTj",
        "colab": {
          "base_uri": "https://localhost:8080/"
        },
        "outputId": "e13047c8-d722-47aa-8f8c-bd18419f7cce"
      },
      "execution_count": null,
      "outputs": [
        {
          "output_type": "stream",
          "name": "stderr",
          "text": [
            "/usr/local/lib/python3.7/dist-packages/sklearn/linear_model/_logistic.py:818: ConvergenceWarning: lbfgs failed to converge (status=1):\n",
            "STOP: TOTAL NO. of ITERATIONS REACHED LIMIT.\n",
            "\n",
            "Increase the number of iterations (max_iter) or scale the data as shown in:\n",
            "    https://scikit-learn.org/stable/modules/preprocessing.html\n",
            "Please also refer to the documentation for alternative solver options:\n",
            "    https://scikit-learn.org/stable/modules/linear_model.html#logistic-regression\n",
            "  extra_warning_msg=_LOGISTIC_SOLVER_CONVERGENCE_MSG,\n"
          ]
        }
      ]
    },
    {
      "cell_type": "code",
      "source": [
        "\n",
        "# import the metrics class\n",
        "from sklearn import metrics\n",
        "\n",
        "cnf_matrix = metrics.confusion_matrix(y_test, y_pred)\n",
        "cnf_matrix\n"
      ],
      "metadata": {
        "id": "jEKycLyh_xV6",
        "colab": {
          "base_uri": "https://localhost:8080/"
        },
        "outputId": "b3248f07-88df-4a47-dac6-1822dbc5834c"
      },
      "execution_count": null,
      "outputs": [
        {
          "output_type": "execute_result",
          "data": {
            "text/plain": [
              "array([[ 5,  0,  5],\n",
              "       [ 0,  0,  2],\n",
              "       [ 0,  0, 14]])"
            ]
          },
          "metadata": {},
          "execution_count": 28
        }
      ]
    },
    {
      "cell_type": "code",
      "source": [
        "\n",
        "# import required modules\n",
        "import numpy as np\n",
        "import matplotlib.pyplot as plt\n",
        "import seaborn as sns\n",
        "\n",
        "class_names=[0,1] # name  of classes\n",
        "fig, ax = plt.subplots()\n",
        "tick_marks = np.arange(len(class_names))\n",
        "plt.xticks(tick_marks, class_names)\n",
        "plt.yticks(tick_marks, class_names)\n",
        "# create heatmap\n",
        "sns.heatmap(pd.DataFrame(cnf_matrix), annot=True, cmap=\"YlGnBu\" ,fmt='g')\n",
        "ax.xaxis.set_label_position(\"top\")\n",
        "plt.tight_layout()\n",
        "plt.title('Confusion matrix', y=1.1)\n",
        "plt.ylabel('Actual label')\n",
        "plt.xlabel('Predicted label')\n",
        "\n"
      ],
      "metadata": {
        "id": "hDE47YZ5_xYd",
        "colab": {
          "base_uri": "https://localhost:8080/",
          "height": 338
        },
        "outputId": "3a6ed6d2-a8b0-4900-ee85-e3c7bdf4ad32"
      },
      "execution_count": null,
      "outputs": [
        {
          "output_type": "execute_result",
          "data": {
            "text/plain": [
              "Text(0.5, 257.44, 'Predicted label')"
            ]
          },
          "metadata": {},
          "execution_count": 29
        },
        {
          "output_type": "display_data",
          "data": {
            "text/plain": [
              "<Figure size 432x288 with 2 Axes>"
            ],
            "image/png": "[encoded data removed]"
          },
          "metadata": {
            "needs_background": "light"
          }
        }
      ]
    },
    {
      "cell_type": "code",
      "source": [
        "from sklearn.metrics import classification_report\n",
        "target_names = ['0','1','2']\n",
        "print(classification_report(y_test, y_pred, target_names=target_names))\n",
        "\n"
      ],
      "metadata": {
        "id": "RzSKyK3m_xbQ",
        "colab": {
          "base_uri": "https://localhost:8080/"
        },
        "outputId": "ca1d0597-9f21-4726-e0da-668c37b40f37"
      },
      "execution_count": null,
      "outputs": [
        {
          "output_type": "stream",
          "name": "stdout",
          "text": [
            "              precision    recall  f1-score   support\n",
            "\n",
            "           0       1.00      0.50      0.67        10\n",
            "           1       0.00      0.00      0.00         2\n",
            "           2       0.67      1.00      0.80        14\n",
            "\n",
            "    accuracy                           0.73        26\n",
            "   macro avg       0.56      0.50      0.49        26\n",
            "weighted avg       0.74      0.73      0.69        26\n",
            "\n"
          ]
        },
        {
          "output_type": "stream",
          "name": "stderr",
          "text": [
            "/usr/local/lib/python3.7/dist-packages/sklearn/metrics/_classification.py:1318: UndefinedMetricWarning: Precision and F-score are ill-defined and being set to 0.0 in labels with no predicted samples. Use `zero_division` parameter to control this behavior.\n",
            "  _warn_prf(average, modifier, msg_start, len(result))\n",
            "/usr/local/lib/python3.7/dist-packages/sklearn/metrics/_classification.py:1318: UndefinedMetricWarning: Precision and F-score are ill-defined and being set to 0.0 in labels with no predicted samples. Use `zero_division` parameter to control this behavior.\n",
            "  _warn_prf(average, modifier, msg_start, len(result))\n",
            "/usr/local/lib/python3.7/dist-packages/sklearn/metrics/_classification.py:1318: UndefinedMetricWarning: Precision and F-score are ill-defined and being set to 0.0 in labels with no predicted samples. Use `zero_division` parameter to control this behavior.\n",
            "  _warn_prf(average, modifier, msg_start, len(result))\n"
          ]
        }
      ]
    }
  ]
}